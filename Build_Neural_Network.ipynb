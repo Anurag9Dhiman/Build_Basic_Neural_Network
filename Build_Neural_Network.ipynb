{
  "nbformat": 4,
  "nbformat_minor": 0,
  "metadata": {
    "colab": {
      "provenance": []
    },
    "kernelspec": {
      "name": "python3",
      "display_name": "Python 3"
    },
    "language_info": {
      "name": "python"
    }
  },
  "cells": [
    {
      "cell_type": "markdown",
      "source": [
        "### Let's build a network for binary classification"
      ],
      "metadata": {
        "id": "93XP1sk-UObQ"
      }
    },
    {
      "cell_type": "markdown",
      "source": [
        "Step1: Import Required Libraries"
      ],
      "metadata": {
        "id": "-mjSyfD4UrZX"
      }
    },
    {
      "cell_type": "code",
      "source": [
        "import numpy as np"
      ],
      "metadata": {
        "id": "KwePguIvURr6"
      },
      "execution_count": null,
      "outputs": []
    },
    {
      "cell_type": "markdown",
      "source": [
        "Step 2: Define Activation Function\n",
        "\n",
        "We'll use the Sigmoid activation function for the neurons since it's simple and commonly used in small neural networks."
      ],
      "metadata": {
        "id": "euY2vCaGUw2w"
      }
    },
    {
      "cell_type": "code",
      "execution_count": null,
      "metadata": {
        "id": "a0D4ZtKCUFnG"
      },
      "outputs": [],
      "source": [
        "def sigmoid(x):\n",
        "  return 1/ (1 + np.exp(-x))\n",
        "\n",
        "def sigmoid_derivative(x):\n",
        "  return x*(1-x)"
      ]
    },
    {
      "cell_type": "markdown",
      "source": [
        "Step 3: Initialize the Neural Network Structure\n"
      ],
      "metadata": {
        "id": "f820A05OVsDp"
      }
    },
    {
      "cell_type": "markdown",
      "source": [
        "Here, we'll initialize the number of neurons for each layer and set up random weights and biases."
      ],
      "metadata": {
        "id": "F_-OEDgTVsHC"
      }
    },
    {
      "cell_type": "code",
      "source": [
        "# Define the structure\n",
        "input_neurons = 2     # Number of input features\n",
        "hidden_neurons = 2    # Number of neurons in hidden layers\n",
        "output_neurons = 1    # Binary classification (0 or 1)\n",
        "\n",
        "# Initialize weights and biases randomly\n",
        "np.random.seed(42)\n",
        "weights_input_hidden = np.random.uniform(size=(input_neurons, hidden_neurons))\n",
        "weights_hidden_output = np.random.uniform(size=(hidden_neurons, output_neurons))\n",
        "\n",
        "bias_hidden = np.random.uniform(size=(1, hidden_neurons))\n",
        "bias_output = np.random.uniform(size=(1, output_neurons))"
      ],
      "metadata": {
        "id": "7lEBr_xsV-_j"
      },
      "execution_count": null,
      "outputs": []
    },
    {
      "cell_type": "markdown",
      "source": [
        "Step 4: Forward Propagation"
      ],
      "metadata": {
        "id": "fn5CNLsKYHTQ"
      }
    },
    {
      "cell_type": "markdown",
      "source": [
        "In forward propagation, we calculate the output of the network using the weights, biases, and activation functions."
      ],
      "metadata": {
        "id": "EQxiOOODYLfx"
      }
    },
    {
      "cell_type": "code",
      "source": [
        "def forward_propagation(X):\n",
        "  # Input to hidden layer\n",
        "  hidden_layer_input = np.dot(X, weights_input_hidden) + bias_hidden\n",
        "  hidden_layer_output = sigmoid(hidden_layer_input)\n",
        "\n",
        "  # Hidden layer to output layer\n",
        "  output_layer_input = np.dot(hidden_layer_output, weights_hidden_output) + bias_output\n",
        "  predicted_output = sigmoid(output_layer_input)\n",
        "\n",
        "  return hidden_layer_output, predicted_output\n"
      ],
      "metadata": {
        "id": "f62C3tYMX5op"
      },
      "execution_count": null,
      "outputs": []
    },
    {
      "cell_type": "markdown",
      "source": [
        "Step 5: Backpropagation"
      ],
      "metadata": {
        "id": "TrQzn-keaZOT"
      }
    },
    {
      "cell_type": "markdown",
      "source": [],
      "metadata": {
        "id": "6RfW54R0abTB"
      }
    },
    {
      "cell_type": "code",
      "source": [
        "def backpropagation(X, y, hidden_layer_output, predicted_output, learning_rate):\n",
        "  global weights_input_hidden, weights_hidden_output, bias_hidden, bias_output\n",
        "\n",
        "  # Calculate the error\n",
        "  output_error = y - predicted_output\n",
        "  d_predicted_output = output_error * sigmoid_derivative(predicted_output)\n",
        "\n",
        "  # Error for hidden layer\n",
        "  hidden_error = d_predicted_output.dot(weights_hidden_output.T)\n",
        "  d_hidden_layer = hidden_error * sigmoid_derivative(hidden_layer_output)\n",
        "\n",
        "  # Update weights and biases\n",
        "  weights_hidden_output += hidden_layer_output.T.dot(d_predicted_output)*learning_rate\n",
        "  weights_input_hidden += X.T.dot(d_hidden_layer) * learning_rate\n",
        "  bias_output += np.sum(d_predicted_output, axis=0, keepdims=True)*learning_rate\n",
        "  bias_hidden += np.sum(d_hidden_layer, axis=0, keepdims=True)* learning_rate"
      ],
      "metadata": {
        "id": "wHUpEPycaWyA"
      },
      "execution_count": null,
      "outputs": []
    },
    {
      "cell_type": "markdown",
      "source": [
        "Step 6: Training the Network"
      ],
      "metadata": {
        "id": "62m04Dy1o1rW"
      }
    },
    {
      "cell_type": "markdown",
      "source": [
        "Now we train the network using forward and backpropagation."
      ],
      "metadata": {
        "id": "z4mhL-T7o1u2"
      }
    },
    {
      "cell_type": "code",
      "source": [
        "# Define inputs and outputs (simple XOR problem)\n",
        "X = np.array([[0,0], [0,1], [1,0], [1,1]])  # Input features\n",
        "y = np.array([[0], [1], [1], [0]])  # Expected outputs\n",
        "\n",
        "# Set the number of iterations and learning rate\n",
        "epochs = 10000\n",
        "learning_rate = 0.1\n",
        "\n",
        "# Training loop\n",
        "for epoch in range(epochs):\n",
        "  hidden_layer_output, predicted_output = forward_propagation(X)\n",
        "  backpropagation(X, y, hidden_layer_output, predicted_output, learning_rate)\n",
        "\n",
        "  if epoch % 1000 == 0:\n",
        "    loss = np.mean(np.square(y - predicted_output))\n",
        "    print(f\"Epoch {epoch}, Loss: {loss}\")"
      ],
      "metadata": {
        "colab": {
          "base_uri": "https://localhost:8080/"
        },
        "id": "i4_mmmEEou4U",
        "outputId": "af887808-1e1d-4fcb-a94f-9137084675c1"
      },
      "execution_count": null,
      "outputs": [
        {
          "output_type": "stream",
          "name": "stdout",
          "text": [
            "Epoch 0, Loss: 0.287974821321425\n",
            "Epoch 1000, Loss: 0.24943329766543199\n",
            "Epoch 2000, Loss: 0.24567537147115226\n",
            "Epoch 3000, Loss: 0.21996241841579695\n",
            "Epoch 4000, Loss: 0.16219924544201417\n",
            "Epoch 5000, Loss: 0.05270887579146116\n",
            "Epoch 6000, Loss: 0.01692601242041666\n",
            "Epoch 7000, Loss: 0.008917785314199872\n",
            "Epoch 8000, Loss: 0.00584454666369325\n",
            "Epoch 9000, Loss: 0.00428179002365958\n"
          ]
        }
      ]
    },
    {
      "cell_type": "markdown",
      "source": [
        "Step 7: Testing the Network"
      ],
      "metadata": {
        "id": "o9T5LOiIrmNF"
      }
    },
    {
      "cell_type": "markdown",
      "source": [
        "After training, you can now test the network with new input values."
      ],
      "metadata": {
        "id": "H3LnBIwCrmwJ"
      }
    },
    {
      "cell_type": "code",
      "source": [
        "# Testing with the trained model\n",
        "_, predictions = forward_propagation(X)\n",
        "print(\"prediction after training:\")\n",
        "print(predictions)"
      ],
      "metadata": {
        "colab": {
          "base_uri": "https://localhost:8080/"
        },
        "id": "p2uQcFHaq2bO",
        "outputId": "6e685179-a6ec-4605-b023-4e69ea711534"
      },
      "execution_count": null,
      "outputs": [
        {
          "output_type": "stream",
          "name": "stdout",
          "text": [
            "prediction after training:\n",
            "[[0.06028403]\n",
            " [0.9444784 ]\n",
            " [0.9443732 ]\n",
            " [0.05996465]]\n"
          ]
        }
      ]
    },
    {
      "cell_type": "code",
      "source": [],
      "metadata": {
        "id": "toeJJxQVRP3Q"
      },
      "execution_count": null,
      "outputs": []
    }
  ]
}